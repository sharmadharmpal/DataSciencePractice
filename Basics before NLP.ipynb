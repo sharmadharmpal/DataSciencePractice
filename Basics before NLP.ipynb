{
 "cells": [
  {
   "cell_type": "code",
   "execution_count": 1,
   "metadata": {},
   "outputs": [],
   "source": [
    "\n",
    "emprecords=[('name','id','salary'),('a',1,100),('b',2,200)]"
   ]
  },
  {
   "cell_type": "markdown",
   "metadata": {},
   "source": [
    "# Unpacking Tuple"
   ]
  },
  {
   "cell_type": "code",
   "execution_count": 2,
   "metadata": {},
   "outputs": [
    {
     "name": "stdout",
     "output_type": "stream",
     "text": [
      "name          id   salary\n",
      "a              1     100\n",
      "b              2     200\n"
     ]
    }
   ],
   "source": [
    "for name,id,salary in emprecords:\n",
    "    print(f'{name:{10}}  {id:>{4}}   {salary:{5}}')"
   ]
  },
  {
   "cell_type": "markdown",
   "metadata": {},
   "source": [
    "## Magic Jupyter notebook"
   ]
  },
  {
   "cell_type": "code",
   "execution_count": 3,
   "metadata": {},
   "outputs": [
    {
     "name": "stdout",
     "output_type": "stream",
     "text": [
      "Overwriting test.txt\n"
     ]
    }
   ],
   "source": [
    "\n",
    "\n",
    "%%writefile 'test.txt'\n",
    "Hello, this is quick test file\n",
    "this is second file"
   ]
  },
  {
   "cell_type": "code",
   "execution_count": 4,
   "metadata": {},
   "outputs": [
    {
     "name": "stdout",
     "output_type": "stream",
     "text": [
      "Hello, this is quick test file\n",
      "this is second file\n",
      "\n"
     ]
    }
   ],
   "source": [
    "myfile=open('test.txt','r')\n",
    "\n",
    "# Read the file moves the cursor at the end of file so,\n",
    "#if you try read it again it won't give aything unlesswe use seek operation\n",
    "# this method is used for small files where we don't tend to read\n",
    "#again and again but we read full file in one shot\n",
    "\n",
    "contents =myfile.read()\n",
    "print(contents)"
   ]
  },
  {
   "cell_type": "code",
   "execution_count": 5,
   "metadata": {},
   "outputs": [],
   "source": [
    "# To send cursor back to normal position after one time read\n",
    "myfile.seek(0)\n",
    "\n",
    "myfile.close()"
   ]
  },
  {
   "cell_type": "code",
   "execution_count": 6,
   "metadata": {
    "scrolled": true
   },
   "outputs": [
    {
     "name": "stdout",
     "output_type": "stream",
     "text": [
      "Hello, this is quick test file\n",
      "this is second file\n",
      "\n"
     ]
    }
   ],
   "source": [
    "\n",
    "print(contents)"
   ]
  },
  {
   "cell_type": "markdown",
   "metadata": {},
   "source": [
    "## Shift Tab - Command to find signature of command e.g. Ctrl + Space"
   ]
  },
  {
   "cell_type": "code",
   "execution_count": 7,
   "metadata": {},
   "outputs": [
    {
     "name": "stdout",
     "output_type": "stream",
     "text": [
      "Hello,\n",
      "this\n"
     ]
    }
   ],
   "source": [
    "myfile=open('test.txt','r')\n",
    "lines=myfile.readlines()\n",
    "for line in lines:\n",
    "    print(line.split()[0])\n",
    "myfile.close()\n"
   ]
  },
  {
   "cell_type": "code",
   "execution_count": null,
   "metadata": {},
   "outputs": [],
   "source": []
  },
  {
   "cell_type": "markdown",
   "metadata": {},
   "source": [
    "## with - context manager to close file automatically"
   ]
  },
  {
   "cell_type": "code",
   "execution_count": 8,
   "metadata": {},
   "outputs": [
    {
     "name": "stdout",
     "output_type": "stream",
     "text": [
      "Hello,\n",
      "this\n"
     ]
    }
   ],
   "source": [
    "with open('test.txt','r') as myfile:\n",
    "    lines=myfile.readlines()\n",
    "for line in lines:\n",
    "    print(line.split()[0])"
   ]
  },
  {
   "cell_type": "code",
   "execution_count": null,
   "metadata": {},
   "outputs": [],
   "source": []
  },
  {
   "cell_type": "code",
   "execution_count": null,
   "metadata": {},
   "outputs": [],
   "source": []
  }
 ],
 "metadata": {
  "kernelspec": {
   "display_name": "Python 3",
   "language": "python",
   "name": "python3"
  },
  "language_info": {
   "codemirror_mode": {
    "name": "ipython",
    "version": 3
   },
   "file_extension": ".py",
   "mimetype": "text/x-python",
   "name": "python",
   "nbconvert_exporter": "python",
   "pygments_lexer": "ipython3",
   "version": "3.7.7"
  }
 },
 "nbformat": 4,
 "nbformat_minor": 4
}
