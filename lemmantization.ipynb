{
 "cells": [
  {
   "cell_type": "code",
   "execution_count": 1,
   "metadata": {},
   "outputs": [],
   "source": [
    "import spacy"
   ]
  },
  {
   "cell_type": "code",
   "execution_count": 2,
   "metadata": {},
   "outputs": [],
   "source": [
    "nlp=spacy.load('en_core_web_sm')"
   ]
  },
  {
   "cell_type": "code",
   "execution_count": 24,
   "metadata": {},
   "outputs": [],
   "source": [
    "doc=nlp(u'Runner was running in the gound, when he ran 20 miles per hour he run out.')"
   ]
  },
  {
   "cell_type": "markdown",
   "metadata": {},
   "source": [
    "# Get lemma information, parts of speech(pos), lemma, "
   ]
  },
  {
   "cell_type": "code",
   "execution_count": 27,
   "metadata": {},
   "outputs": [
    {
     "name": "stdout",
     "output_type": "stream",
     "text": [
      "Runner     12640964157389618806  runner                 PROPN     \n",
      "was        10382539506755952630  be                     VERB      \n",
      "running    12767647472892411841  run                    VERB      \n",
      "in          3002984154512732771  in                     ADP       \n",
      "the         7425985699627899538  the                    DET       \n",
      "gound      11267558110443604475  gound                  NOUN      \n",
      ",           2593208677638477497  ,                      PUNCT     \n",
      "when       15807309897752499399  when                   ADV       \n",
      "he           561228191312463089  -PRON-                 PRON      \n",
      "ran        12767647472892411841  run                    VERB      \n",
      "20          2767521681098075859  20                     NUM       \n",
      "miles      15996833532744392865  mile                   NOUN      \n",
      "per          799935474406865112  per                    ADP       \n",
      "hour        9748623380567160636  hour                   NOUN      \n",
      "he           561228191312463089  -PRON-                 PRON      \n",
      "run        12767647472892411841  run                    VERB      \n",
      "out         1696981056005371314  out                    PART      \n",
      ".          12646065887601541794  .                      PUNCT     \n"
     ]
    }
   ],
   "source": [
    "for word in doc:\n",
    "    print(f'{word.text:{10}} {word.lemma:{20}}  {word.lemma_:{20}}   {word.pos_:{10}}')"
   ]
  },
  {
   "cell_type": "code",
   "execution_count": null,
   "metadata": {},
   "outputs": [],
   "source": []
  },
  {
   "cell_type": "code",
   "execution_count": null,
   "metadata": {},
   "outputs": [],
   "source": []
  },
  {
   "cell_type": "code",
   "execution_count": null,
   "metadata": {},
   "outputs": [],
   "source": []
  },
  {
   "cell_type": "code",
   "execution_count": null,
   "metadata": {},
   "outputs": [],
   "source": []
  },
  {
   "cell_type": "code",
   "execution_count": null,
   "metadata": {},
   "outputs": [],
   "source": []
  },
  {
   "cell_type": "code",
   "execution_count": null,
   "metadata": {},
   "outputs": [],
   "source": []
  },
  {
   "cell_type": "code",
   "execution_count": null,
   "metadata": {},
   "outputs": [],
   "source": []
  },
  {
   "cell_type": "code",
   "execution_count": null,
   "metadata": {},
   "outputs": [],
   "source": []
  },
  {
   "cell_type": "code",
   "execution_count": null,
   "metadata": {},
   "outputs": [],
   "source": []
  },
  {
   "cell_type": "code",
   "execution_count": null,
   "metadata": {},
   "outputs": [],
   "source": []
  }
 ],
 "metadata": {
  "kernelspec": {
   "display_name": "Python 3",
   "language": "python",
   "name": "python3"
  },
  "language_info": {
   "codemirror_mode": {
    "name": "ipython",
    "version": 3
   },
   "file_extension": ".py",
   "mimetype": "text/x-python",
   "name": "python",
   "nbconvert_exporter": "python",
   "pygments_lexer": "ipython3",
   "version": "3.7.7"
  }
 },
 "nbformat": 4,
 "nbformat_minor": 4
}
