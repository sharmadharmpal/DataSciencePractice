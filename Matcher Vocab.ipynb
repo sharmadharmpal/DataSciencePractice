{
 "cells": [
  {
   "cell_type": "code",
   "execution_count": 1,
   "metadata": {},
   "outputs": [],
   "source": [
    "import spacy"
   ]
  },
  {
   "cell_type": "code",
   "execution_count": 2,
   "metadata": {},
   "outputs": [],
   "source": [
    "nlp=spacy.load('en_core_web_sm')"
   ]
  },
  {
   "cell_type": "code",
   "execution_count": 3,
   "metadata": {},
   "outputs": [],
   "source": [
    "from spacy.matcher import Matcher"
   ]
  },
  {
   "cell_type": "markdown",
   "metadata": {},
   "source": [
    "# Create object of matcher"
   ]
  },
  {
   "cell_type": "code",
   "execution_count": 4,
   "metadata": {},
   "outputs": [],
   "source": [
    "matcher = Matcher(nlp.vocab)"
   ]
  },
  {
   "cell_type": "markdown",
   "metadata": {},
   "source": [
    "# Declare patterns"
   ]
  },
  {
   "cell_type": "code",
   "execution_count": 5,
   "metadata": {},
   "outputs": [],
   "source": [
    "#SolarPower\n",
    "pattern1=[{'LOWER':'dharmpal'}]\n",
    "#Solar-power\n",
    "pattern2=[{'LOWER':'dharm'},{'IS_PUNCT':True},{'LOWER':'pal'}]\n",
    "#Solar power\n",
    "pattern3=[{'LOWER':'dharm'},{'LOWER':'paul'}]\n",
    "matcher.add('Dharmpal',None, pattern1,pattern2,pattern3)\n"
   ]
  },
  {
   "cell_type": "markdown",
   "metadata": {},
   "source": [
    "# document you want to search for pattern matching"
   ]
  },
  {
   "cell_type": "code",
   "execution_count": 6,
   "metadata": {},
   "outputs": [],
   "source": [
    "doc=nlp(u'Dharm-pal is my friend. dharm-pal helps. dharm paul is awesome. DharmPaul is nice guy.')"
   ]
  },
  {
   "cell_type": "markdown",
   "metadata": {},
   "source": [
    "# find matches based on patterns"
   ]
  },
  {
   "cell_type": "code",
   "execution_count": 7,
   "metadata": {},
   "outputs": [],
   "source": [
    "foundmatches=matcher(doc)"
   ]
  },
  {
   "cell_type": "code",
   "execution_count": 8,
   "metadata": {},
   "outputs": [
    {
     "name": "stdout",
     "output_type": "stream",
     "text": [
      "[(8373123660890716462, 0, 3), (8373123660890716462, 7, 10), (8373123660890716462, 12, 14)]\n"
     ]
    }
   ],
   "source": [
    "print(foundmatches)"
   ]
  },
  {
   "cell_type": "markdown",
   "metadata": {},
   "source": [
    "# Unpack tuple returned from matches"
   ]
  },
  {
   "cell_type": "code",
   "execution_count": 9,
   "metadata": {},
   "outputs": [
    {
     "name": "stdout",
     "output_type": "stream",
     "text": [
      "Dharmpal Dharm-pal\n",
      "Dharmpal dharm-pal\n",
      "Dharmpal dharm paul\n"
     ]
    }
   ],
   "source": [
    "for match,start, end in foundmatches:\n",
    "    print(nlp.vocab.strings[match], doc[start:end].text)"
   ]
  },
  {
   "cell_type": "code",
   "execution_count": null,
   "metadata": {},
   "outputs": [],
   "source": []
  },
  {
   "cell_type": "code",
   "execution_count": 10,
   "metadata": {},
   "outputs": [],
   "source": [
    "matcher.remove('Dharmpal')"
   ]
  },
  {
   "cell_type": "code",
   "execution_count": 11,
   "metadata": {},
   "outputs": [],
   "source": [
    "# Add pattern with Optional parameter"
   ]
  },
  {
   "cell_type": "code",
   "execution_count": 12,
   "metadata": {},
   "outputs": [],
   "source": [
    "#dharmpal\n",
    "#pattern1=[{'LOWER':'dharmpal'}]\n",
    "#dharm-pal dharm pal\n",
    "pattern2=[{'LOWER':'dharm'},{'IS_PUNCT':True,'OP':'*'},{'LOWER':'pal'}]\n",
    "#dharm paul\n",
    "pattern3=[{'LOWER':'dharm'},{'LOWER':'paul'}]\n",
    "matcher.add('Dharmpal',None, pattern2,pattern3)"
   ]
  },
  {
   "cell_type": "code",
   "execution_count": 13,
   "metadata": {},
   "outputs": [],
   "source": [
    "doc=nlp(u'Dharm pal is my fried. dharm-pal helps. dharm paul is awesome. DharmPaul is nice guy.')"
   ]
  },
  {
   "cell_type": "code",
   "execution_count": 14,
   "metadata": {},
   "outputs": [],
   "source": [
    "foundmatches=matcher(doc)"
   ]
  },
  {
   "cell_type": "code",
   "execution_count": null,
   "metadata": {},
   "outputs": [],
   "source": []
  },
  {
   "cell_type": "code",
   "execution_count": 15,
   "metadata": {},
   "outputs": [
    {
     "name": "stdout",
     "output_type": "stream",
     "text": [
      "Dharmpal dharm-pal\n",
      "Dharmpal dharm paul\n"
     ]
    }
   ],
   "source": [
    "for match,start, end in foundmatches:\n",
    "    print(nlp.vocab.strings[match], doc[start:end].text)"
   ]
  },
  {
   "cell_type": "code",
   "execution_count": null,
   "metadata": {},
   "outputs": [],
   "source": []
  },
  {
   "cell_type": "code",
   "execution_count": null,
   "metadata": {},
   "outputs": [],
   "source": []
  }
 ],
 "metadata": {
  "kernelspec": {
   "display_name": "Python 3",
   "language": "python",
   "name": "python3"
  },
  "language_info": {
   "codemirror_mode": {
    "name": "ipython",
    "version": 3
   },
   "file_extension": ".py",
   "mimetype": "text/x-python",
   "name": "python",
   "nbconvert_exporter": "python",
   "pygments_lexer": "ipython3",
   "version": "3.7.7"
  }
 },
 "nbformat": 4,
 "nbformat_minor": 4
}
