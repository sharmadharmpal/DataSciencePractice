{
 "cells": [
  {
   "cell_type": "code",
   "execution_count": 1,
   "metadata": {},
   "outputs": [],
   "source": [
    "import spacy"
   ]
  },
  {
   "cell_type": "code",
   "execution_count": 2,
   "metadata": {},
   "outputs": [],
   "source": [
    "nlp=spacy.load('en_core_web_sm')"
   ]
  },
  {
   "cell_type": "code",
   "execution_count": 3,
   "metadata": {},
   "outputs": [],
   "source": [
    "doc=nlp(u'Runner was running in the gound, when he ran 20 miles per hour he run out.')"
   ]
  },
  {
   "cell_type": "markdown",
   "metadata": {},
   "source": [
    "## print all default stope words"
   ]
  },
  {
   "cell_type": "code",
   "execution_count": 5,
   "metadata": {},
   "outputs": [
    {
     "name": "stdout",
     "output_type": "stream",
     "text": [
      "{'am', 'bottom', 'further', 'however', 'it', 'per', 'give', 'though', 'due', 'perhaps', 'twelve', 'twenty', 'thereafter', 'via', 'eleven', 'formerly', 'the', 'whatever', 'among', 'rather', 'top', 'does', 'off', 'side', 'here', 'its', 'own', 'had', 'if', 'former', 'latter', 'anywhere', 'for', 'in', 'above', 'two', 'sometime', 'first', 'ten', 'less', 'during', 'third', 'has', 'one', 'go', 'toward', 'was', 'with', 'are', 'except', 'some', 'thereby', 'behind', 'using', 'therein', 'besides', 'other', 'well', 'they', 'between', 'is', 'noone', 'ours', 'alone', 'must', 'yourself', 'once', 'even', 'but', 'four', 'least', 'others', 'did', 'i', 'quite', 'towards', 'have', 'which', 'as', 'being', 'next', 'my', 'make', 'nowhere', 'several', 'else', 'various', 'whom', 'nor', 'otherwise', 'himself', 'most', 'becoming', 'nine', 'us', 'whoever', 'below', 'nobody', 'since', 'myself', 'seeming', 'someone', 'whenever', 'again', 'herein', 'often', 'he', 'back', 'enough', 'by', 'about', 'many', 'wherever', 'and', 'same', 'an', 'eight', 'seem', 'still', 'not', 'that', 'until', 'moreover', 'may', 'amongst', 'up', 'either', 'onto', 'hence', 'became', 'whereas', 'somehow', 'before', 'used', 'hers', 'anyone', 'our', 'where', 'please', 'five', 'yet', 'hereupon', 'name', 'get', 'or', 'amount', 'how', 'all', 'everywhere', 'under', 'you', 'mostly', 'without', 'just', 'beyond', 'these', 'him', 'sixty', 'nevertheless', 'whereafter', 'much', 'when', 'along', 'yourselves', 'beforehand', 'six', 'last', 'only', 'regarding', 'been', 'call', 'put', 'your', 'very', 'whither', 'whole', 'why', 'them', 'so', 'throughout', 'she', 'whereupon', 'because', 'another', 'whether', 'forty', 'a', 'ca', 'against', 'every', 'whose', 'would', 'keep', 'too', 'unless', 'whereby', 'beside', 'full', 'everyone', 'say', 'meanwhile', 'everything', 'of', 'there', 'at', 'each', 'fifteen', 'such', 'could', 'across', 'empty', 'namely', 'than', 'show', 'around', 'can', 'ourselves', 'serious', 'something', 'to', 'wherein', 'made', 'into', 're', 'do', 'anyway', 'upon', 'will', 'indeed', 'part', 'through', 'hereafter', 'should', 'what', 'their', 'take', 'becomes', 'herself', 'seems', 'also', 'somewhere', 'almost', 'ever', 'those', 'no', 'few', 'front', 'already', 'really', 'might', 'hereby', 'therefore', 'become', 'yours', 'fifty', 'this', 'anyhow', 'any', 'both', 'her', 'neither', 'down', 'thereupon', 'done', 'now', 'thus', 'elsewhere', 'together', 'on', 'over', 'mine', 'move', 'although', 'seemed', 'after', 'more', 'me', 'nothing', 'itself', 'three', 'latterly', 'cannot', 'while', 'were', 'anything', 'from', 'we', 'afterwards', 'his', 'then', 'thence', 'hundred', 'out', 'who', 'within', 'themselves', 'sometimes', 'never', 'doing', 'be', 'none', 'whence', 'always', 'thru', 'see'}\n"
     ]
    }
   ],
   "source": [
    "print(nlp.Defaults.stop_words)"
   ]
  },
  {
   "cell_type": "code",
   "execution_count": null,
   "metadata": {},
   "outputs": [],
   "source": []
  },
  {
   "cell_type": "code",
   "execution_count": 6,
   "metadata": {},
   "outputs": [
    {
     "name": "stdout",
     "output_type": "stream",
     "text": [
      "305\n"
     ]
    }
   ],
   "source": [
    "print(len(nlp.Defaults.stop_words))"
   ]
  },
  {
   "cell_type": "code",
   "execution_count": null,
   "metadata": {},
   "outputs": [],
   "source": []
  },
  {
   "cell_type": "markdown",
   "metadata": {},
   "source": [
    "# Check if single word is stop word"
   ]
  },
  {
   "cell_type": "code",
   "execution_count": 7,
   "metadata": {},
   "outputs": [
    {
     "data": {
      "text/plain": [
       "True"
      ]
     },
     "execution_count": 7,
     "metadata": {},
     "output_type": "execute_result"
    }
   ],
   "source": [
    "nlp.vocab['is'].is_stop"
   ]
  },
  {
   "cell_type": "markdown",
   "metadata": {},
   "source": [
    "# Add new stop word"
   ]
  },
  {
   "cell_type": "code",
   "execution_count": 8,
   "metadata": {},
   "outputs": [],
   "source": [
    "nlp.Defaults.stop_words.add('btw')"
   ]
  },
  {
   "cell_type": "code",
   "execution_count": 9,
   "metadata": {},
   "outputs": [],
   "source": [
    "nlp.vocab['btw'].is_stop=True"
   ]
  },
  {
   "cell_type": "markdown",
   "metadata": {},
   "source": [
    "# Checking the length of vocabolary"
   ]
  },
  {
   "cell_type": "code",
   "execution_count": 10,
   "metadata": {},
   "outputs": [
    {
     "name": "stdout",
     "output_type": "stream",
     "text": [
      "306\n"
     ]
    }
   ],
   "source": [
    "print(len(nlp.Defaults.stop_words))"
   ]
  },
  {
   "cell_type": "markdown",
   "metadata": {},
   "source": [
    "# Removing the stop word from vocabulary"
   ]
  },
  {
   "cell_type": "code",
   "execution_count": 11,
   "metadata": {},
   "outputs": [],
   "source": [
    "nlp.Defaults.stop_words.remove('beyond')"
   ]
  },
  {
   "cell_type": "code",
   "execution_count": 13,
   "metadata": {},
   "outputs": [],
   "source": [
    "nlp.vocab['beyond'].is_stop=False"
   ]
  },
  {
   "cell_type": "code",
   "execution_count": 14,
   "metadata": {},
   "outputs": [
    {
     "name": "stdout",
     "output_type": "stream",
     "text": [
      "305\n"
     ]
    }
   ],
   "source": [
    "print(len(nlp.Defaults.stop_words))"
   ]
  },
  {
   "cell_type": "code",
   "execution_count": null,
   "metadata": {},
   "outputs": [],
   "source": []
  },
  {
   "cell_type": "code",
   "execution_count": null,
   "metadata": {},
   "outputs": [],
   "source": []
  },
  {
   "cell_type": "code",
   "execution_count": null,
   "metadata": {},
   "outputs": [],
   "source": []
  },
  {
   "cell_type": "code",
   "execution_count": null,
   "metadata": {},
   "outputs": [],
   "source": []
  }
 ],
 "metadata": {
  "kernelspec": {
   "display_name": "Python 3",
   "language": "python",
   "name": "python3"
  },
  "language_info": {
   "codemirror_mode": {
    "name": "ipython",
    "version": 3
   },
   "file_extension": ".py",
   "mimetype": "text/x-python",
   "name": "python",
   "nbconvert_exporter": "python",
   "pygments_lexer": "ipython3",
   "version": "3.7.7"
  }
 },
 "nbformat": 4,
 "nbformat_minor": 4
}
